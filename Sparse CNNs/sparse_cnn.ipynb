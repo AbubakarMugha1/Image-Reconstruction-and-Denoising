{
 "cells": [
  {
   "cell_type": "markdown",
   "metadata": {},
   "source": [
    "# **<span style=\"color: #87CEEB;\"> CS437/CS5317/EE414/EE513 Deep Learning Programming Assignment 1</span>**\n",
    "\n",
    "# <span style=\"color: #9370DB;\">**Submission Guidelines**</span>\n",
    "\n",
    "- <span style=\"color: #9370DB;\">Please rename the file to `<RollNumber>_PA1_2_3`.</span>\n",
    "- <span style=\"color: #9370DB;\">Please also submit a **.py** file of every Notebook. You can do this by exporting your **ipynb** to a Python script.</span>\n",
    "- <span style=\"color: #9370DB;\">Please submit a zipped folder of both your Jupyter Notebooks and Python script files.</span>\n",
    "\n",
    "\n"
   ]
  },
  {
   "cell_type": "markdown",
   "metadata": {},
   "source": [
    "### Name: Muhammad Abubakar Mughal  \n",
    "### Roll Number: 26100228"
   ]
  },
  {
   "cell_type": "code",
   "execution_count": 2,
   "metadata": {
    "execution": {
     "iopub.execute_input": "2025-02-17T15:28:44.769607Z",
     "iopub.status.busy": "2025-02-17T15:28:44.769260Z",
     "iopub.status.idle": "2025-02-17T15:28:44.774096Z",
     "shell.execute_reply": "2025-02-17T15:28:44.773222Z",
     "shell.execute_reply.started": "2025-02-17T15:28:44.769585Z"
    },
    "trusted": true
   },
   "outputs": [],
   "source": [
    "import torch\n",
    "import pandas as pd\n",
    "import numpy as np\n",
    "import matplotlib.pyplot as plt\n",
    "\n",
    "from torch.utils.data import Dataset, DataLoader\n",
    "from torchvision import transforms\n",
    "from torch.utils.data import DataLoader, random_split\n",
    "\n",
    "import glob\n",
    "import cv2\n",
    "import os\n",
    "\n",
    "from torchsummary import summary\n",
    "from tqdm.notebook import tqdm\n"
   ]
  },
  {
   "cell_type": "markdown",
   "metadata": {},
   "source": [
    "<h1><b> Part 2 Task 3 : Sparse CNN Layers<span style=\"color: #9370DB;\"> (50 Points Total)</span></b></h1> \n",
    "\n",
    "In this section, you will classify CIFAR-10 ising sparse CNN. You will replace the standard CNN layers with sparse CNN layers. Sparse CNN layers are useful for reducing the number of parameters in the model, which can lead to faster inference times and lower memory usage. It would be helpful to have a look of this article to explor more about sparse CNN: https://www.cv-foundation.org/openaccess/content_cvpr_2015/papers/Liu_Sparse_Convolutional_Neural_2015_CVPR_paper.pdf\n",
    "\n",
    "You are required to implement a sparse CNN layer by applying pruning to the weights of the convolutional layers. PyTorch provides utilities for pruning in the `torch.nn.utils.prune` module.\n",
    "\n",
    "## Task:\n",
    "1. Implement a sparse CNN layer by applying pruning to the weights of the convolutional layers.\n",
    "3. Train the model with the sparse CNN layers and compare its performance with the original model."
   ]
  },
  {
   "cell_type": "markdown",
   "metadata": {},
   "source": [
    "Here you need to implement Sparse CNN Layer using PyTorch's pruning utilities."
   ]
  },
  {
   "cell_type": "code",
   "execution_count": null,
   "metadata": {
    "execution": {
     "iopub.execute_input": "2025-02-17T15:29:33.907686Z",
     "iopub.status.busy": "2025-02-17T15:29:33.907321Z",
     "iopub.status.idle": "2025-02-17T15:29:33.914234Z",
     "shell.execute_reply": "2025-02-17T15:29:33.913431Z",
     "shell.execute_reply.started": "2025-02-17T15:29:33.907654Z"
    },
    "trusted": true
   },
   "outputs": [],
   "source": [
    "import torch\n",
    "import torch.nn as nn\n",
    "import torch.nn.functional as F\n",
    "import torch.nn.utils.prune as prune\n",
    "\n",
    "class SparseConv2d(nn.Module):\n",
    "    def __init__(self, in_channels, out_channels, kernel_size, stride=1, padding=0, pruning_amount=0.5):\n",
    "        super(SparseConv2d, self).__init__()\n",
    "        # ================= Your Code Here ===============\n",
    "        \n",
    "        self.conv = nn.Conv2d(in_channels, out_channels, kernel_size, stride, padding)\n",
    "        prune.l1_unstructured(self.conv, name=\"weight\", amount=pruning_amount)\n",
    "        # =================================================\n",
    "\n",
    "\n",
    "    def forward(self, x):\n",
    "        # ================= Your Code Here ===============\n",
    "        return self.conv(x)\n",
    "        # =================================================\n",
    "\n"
   ]
  },
  {
   "cell_type": "code",
   "execution_count": 8,
   "metadata": {
    "execution": {
     "iopub.execute_input": "2025-02-17T15:40:02.053785Z",
     "iopub.status.busy": "2025-02-17T15:40:02.053369Z",
     "iopub.status.idle": "2025-02-17T15:40:02.061110Z",
     "shell.execute_reply": "2025-02-17T15:40:02.060090Z",
     "shell.execute_reply.started": "2025-02-17T15:40:02.053755Z"
    },
    "trusted": true
   },
   "outputs": [],
   "source": [
    "import torch\n",
    "import torch.nn as nn\n",
    "\n",
    "class SparseModel(nn.Module):\n",
    "    def __init__(self):\n",
    "        super().__init__()\n",
    "        # ================= Your Code Here ===============\n",
    "        \n",
    "        self.conv1 = SparseConv2d(3, 32, kernel_size=3, stride=1, padding=1, pruning_amount=0.6)\n",
    "\n",
    "        self.conv2 = SparseConv2d(32, 64, kernel_size=3, stride=1, padding=1, pruning_amount=0.7)\n",
    "        \n",
    "        self.conv3 = SparseConv2d(64, 128, kernel_size=3, stride=1, padding=1, pruning_amount=0.6)\n",
    "        \n",
    "        self.pool = nn.MaxPool2d(2, 2)\n",
    "        \n",
    "        self.fc1 = nn.Linear(128 * 8 * 8, 256)\n",
    "        self.fc2 = nn.Linear(256, 10) \n",
    "        self.dropout = nn.Dropout(0.4)\n",
    "    # =================================================\n",
    "\n",
    "        \n",
    "    def forward(self, x):\n",
    "        # ================= Your Code Here ===============\n",
    "        x = F.relu(self.conv1(x))\n",
    "        x = self.pool(x)\n",
    "        \n",
    "        x = F.relu(self.conv2(x))\n",
    "        x = self.pool(x)\n",
    "        \n",
    "        x = F.relu(self.conv3(x))\n",
    "        x = self.pool(x)\n",
    "        \n",
    "        x = x.view(x.size(0), -1)\n",
    "        \n",
    "        x = self.dropout(F.relu(self.fc1(x)))\n",
    "        x = self.fc2(x)\n",
    "        return x\n",
    "        # ================================================\n"
   ]
  },
  {
   "cell_type": "markdown",
   "metadata": {},
   "source": [
    "Download CIFAR-10, use the SparseConv2d layer instead of the standard nn.Conv2d layer."
   ]
  },
  {
   "cell_type": "code",
   "execution_count": null,
   "metadata": {
    "execution": {
     "iopub.execute_input": "2025-02-17T15:40:05.631141Z",
     "iopub.status.busy": "2025-02-17T15:40:05.630848Z",
     "iopub.status.idle": "2025-02-17T15:40:07.258173Z",
     "shell.execute_reply": "2025-02-17T15:40:07.257421Z",
     "shell.execute_reply.started": "2025-02-17T15:40:05.631119Z"
    },
    "trusted": true
   },
   "outputs": [
    {
     "name": "stdout",
     "output_type": "stream",
     "text": [
      "Files already downloaded and verified\n",
      "Files already downloaded and verified\n",
      "Number of training samples: 50000\n",
      "Number of testing samples: 10000\n"
     ]
    }
   ],
   "source": [
    "import torch\n",
    "import torchvision\n",
    "import torchvision.transforms as transforms\n",
    "from torch.utils.data import DataLoader\n",
    "\n",
    "\n",
    "transform = transforms.Compose([\n",
    "    transforms.RandomHorizontalFlip(),\n",
    "    transforms.RandomRotation(15),\n",
    "    transforms.Resize((64, 64)), #resizing according to expected input \n",
    "    transforms.ToTensor(),\n",
    "    transforms.Normalize([0.5 , 0.5, 0.5], [0.5, 0.5, 0.5])\n",
    "])\n",
    "\n",
    "# ============ YOUR CODE HERE ============\n",
    "\n",
    "trainset = torchvision.datasets.CIFAR10(root='./data', train=True, download=True, transform=transform)\n",
    "trainloader = DataLoader(trainset, batch_size=64, shuffle=True)\n",
    "\n",
    "testset = torchvision.datasets.CIFAR10(root='./data', train=False, download=True, transform=transform)\n",
    "testloader = DataLoader(testset, batch_size=64, shuffle=False)\n",
    "\n",
    "# ========================================\n",
    "\n",
    "print(f\"Number of training samples: {len(trainset)}\")\n",
    "print(f\"Number of testing samples: {len(testset)}\")"
   ]
  },
  {
   "cell_type": "markdown",
   "metadata": {},
   "source": [
    "# Train your Sparse CNN\n",
    "In this section, you are required to train your Sparse CNN on the Pokemon Dataset. You may change the `criterion`, `optimizer`, `lr` and `NUM_EPOCHS`.\n",
    "You have to implement the model training for each epoch."
   ]
  },
  {
   "cell_type": "code",
   "execution_count": 10,
   "metadata": {
    "execution": {
     "iopub.execute_input": "2025-02-17T15:40:11.981893Z",
     "iopub.status.busy": "2025-02-17T15:40:11.981610Z",
     "iopub.status.idle": "2025-02-17T15:40:12.035586Z",
     "shell.execute_reply": "2025-02-17T15:40:12.034683Z",
     "shell.execute_reply.started": "2025-02-17T15:40:11.981875Z"
    },
    "trusted": true
   },
   "outputs": [
    {
     "name": "stdout",
     "output_type": "stream",
     "text": [
      "----------------------------------------------------------------\n",
      "        Layer (type)               Output Shape         Param #\n",
      "================================================================\n",
      "            Conv2d-1           [-1, 32, 64, 64]             896\n",
      "      SparseConv2d-2           [-1, 32, 64, 64]               0\n",
      "         MaxPool2d-3           [-1, 32, 32, 32]               0\n",
      "            Conv2d-4           [-1, 64, 32, 32]          18,496\n",
      "      SparseConv2d-5           [-1, 64, 32, 32]               0\n",
      "         MaxPool2d-6           [-1, 64, 16, 16]               0\n",
      "            Conv2d-7          [-1, 128, 16, 16]          73,856\n",
      "      SparseConv2d-8          [-1, 128, 16, 16]               0\n",
      "         MaxPool2d-9            [-1, 128, 8, 8]               0\n",
      "           Linear-10                  [-1, 256]       2,097,408\n",
      "          Dropout-11                  [-1, 256]               0\n",
      "           Linear-12                   [-1, 10]           2,570\n",
      "================================================================\n",
      "Total params: 2,193,226\n",
      "Trainable params: 2,193,226\n",
      "Non-trainable params: 0\n",
      "----------------------------------------------------------------\n",
      "Input size (MB): 0.05\n",
      "Forward/backward pass size (MB): 3.94\n",
      "Params size (MB): 8.37\n",
      "Estimated Total Size (MB): 12.35\n",
      "----------------------------------------------------------------\n"
     ]
    }
   ],
   "source": [
    "sparse_model = SparseModel()\n",
    "criterion = nn.CrossEntropyLoss()\n",
    "optimizer = torch.optim.Adam(sparse_model.parameters(), lr=0.001, weight_decay = 1e-4)\n",
    "device = torch.device(\"cuda\" if torch.cuda.is_available() else \"cpu\")\n",
    "sparse_model.to(device)\n",
    "\n",
    "summary(sparse_model, input_size=(3, 64, 64))\n"
   ]
  },
  {
   "cell_type": "code",
   "execution_count": null,
   "metadata": {
    "execution": {
     "iopub.execute_input": "2025-02-17T15:40:21.866574Z",
     "iopub.status.busy": "2025-02-17T15:40:21.866210Z",
     "iopub.status.idle": "2025-02-17T15:51:43.009451Z",
     "shell.execute_reply": "2025-02-17T15:51:43.008479Z",
     "shell.execute_reply.started": "2025-02-17T15:40:21.866544Z"
    },
    "trusted": true
   },
   "outputs": [
    {
     "data": {
      "application/vnd.jupyter.widget-view+json": {
       "model_id": "c794a60063e1431795e9d823b0357268",
       "version_major": 2,
       "version_minor": 0
      },
      "text/plain": [
       "Training Progress:   0%|          | 0/20 [00:00<?, ?it/s]"
      ]
     },
     "metadata": {},
     "output_type": "display_data"
    },
    {
     "name": "stdout",
     "output_type": "stream",
     "text": [
      "Epoch 1/20: Loss = 1.5416, Accuracy = 43.96%\n",
      "Epoch 2/20: Loss = 1.2545, Accuracy = 54.58%\n",
      "Epoch 3/20: Loss = 1.1142, Accuracy = 60.34%\n",
      "Epoch 4/20: Loss = 1.0263, Accuracy = 63.84%\n",
      "Epoch 5/20: Loss = 0.9503, Accuracy = 66.55%\n",
      "Epoch 6/20: Loss = 0.8982, Accuracy = 68.27%\n",
      "Epoch 7/20: Loss = 0.8571, Accuracy = 69.81%\n",
      "Epoch 8/20: Loss = 0.8237, Accuracy = 70.90%\n",
      "Epoch 9/20: Loss = 0.7900, Accuracy = 72.28%\n",
      "Epoch 10/20: Loss = 0.7619, Accuracy = 73.46%\n",
      "Epoch 11/20: Loss = 0.7420, Accuracy = 73.87%\n",
      "Epoch 12/20: Loss = 0.7141, Accuracy = 74.89%\n",
      "Epoch 13/20: Loss = 0.7059, Accuracy = 75.23%\n",
      "Epoch 14/20: Loss = 0.6862, Accuracy = 75.98%\n",
      "Epoch 15/20: Loss = 0.6713, Accuracy = 76.44%\n",
      "Epoch 16/20: Loss = 0.6550, Accuracy = 76.98%\n",
      "Epoch 17/20: Loss = 0.6430, Accuracy = 77.42%\n",
      "Epoch 18/20: Loss = 0.6258, Accuracy = 78.04%\n",
      "Epoch 19/20: Loss = 0.6226, Accuracy = 78.10%\n",
      "Epoch 20/20: Loss = 0.6125, Accuracy = 78.53%\n",
      "Training complete! 🎉\n"
     ]
    }
   ],
   "source": [
    "sparse_model.train()\n",
    "NUM_EPOCHS = 20\n",
    "\n",
    "loss_list = []\n",
    "accuracy_list = []\n",
    "\n",
    "for epoch in tqdm(range(NUM_EPOCHS), desc=\"Training Progress\"):\n",
    "    running_loss = 0.0\n",
    "    correct = 0\n",
    "    total = 0\n",
    "\n",
    "    for inputs, labels in trainloader:\n",
    "        inputs, labels = inputs.to(device), labels.to(device)\n",
    "\n",
    "        optimizer.zero_grad()\n",
    "        outputs = sparse_model(inputs) \n",
    "        loss = criterion(outputs, labels) \n",
    "        loss.backward() \n",
    "        optimizer.step()\n",
    "\n",
    "        running_loss += loss.item()\n",
    "        \n",
    "        _, predicted = outputs.max(1)\n",
    "        total += labels.size(0)\n",
    "        correct += predicted.eq(labels).sum().item()\n",
    "\n",
    "    epoch_loss = running_loss / len(trainloader)\n",
    "    epoch_accuracy = 100.0 * correct / total\n",
    "\n",
    "    loss_list.append(epoch_loss)\n",
    "    accuracy_list.append(epoch_accuracy)\n",
    "\n",
    "    print(f\"Epoch {epoch+1}/{NUM_EPOCHS}: Loss = {epoch_loss:.4f}, Accuracy = {epoch_accuracy:.2f}%\")\n",
    "\n",
    "print(\"Training complete! 🎉\")"
   ]
  },
  {
   "cell_type": "markdown",
   "metadata": {},
   "source": [
    "# Evaluate your Sparse CNN\n",
    "In this section, you will set your Sparse model in evaluation mode and evaluate it on your test data. \n",
    "You have to implement the evaluation loop and report the test accuracy."
   ]
  },
  {
   "cell_type": "code",
   "execution_count": null,
   "metadata": {
    "execution": {
     "iopub.execute_input": "2025-02-17T15:53:10.171748Z",
     "iopub.status.busy": "2025-02-17T15:53:10.171415Z",
     "iopub.status.idle": "2025-02-17T15:53:15.303810Z",
     "shell.execute_reply": "2025-02-17T15:53:15.302977Z",
     "shell.execute_reply.started": "2025-02-17T15:53:10.171724Z"
    },
    "trusted": true
   },
   "outputs": [
    {
     "name": "stdout",
     "output_type": "stream",
     "text": [
      "Test Accuracy of Sparse Model: 76.77%\n"
     ]
    }
   ],
   "source": [
    "sparse_model.eval()\n",
    "correct = 0\n",
    "total = 0\n",
    "\n",
    "with torch.no_grad(): \n",
    "    for inputs, labels in testloader:\n",
    "        inputs, labels = inputs.to(device), labels.to(device)  \n",
    "        \n",
    "        outputs = sparse_model(inputs)  \n",
    "        _, predicted = torch.max(outputs, 1)  \n",
    "        total += labels.size(0) \n",
    "        correct += (predicted == labels).sum().item() \n",
    "\n",
    "test_accuracy = 100 * correct / total\n",
    "print(f\"Test Accuracy of Sparse Model: {test_accuracy:.2f}%\")"
   ]
  },
  {
   "cell_type": "markdown",
   "metadata": {},
   "source": [
    "Evaluate Spare model performance and mofidy the code where it necessary"
   ]
  },
  {
   "cell_type": "code",
   "execution_count": null,
   "metadata": {
    "execution": {
     "iopub.execute_input": "2025-02-17T15:59:48.357037Z",
     "iopub.status.busy": "2025-02-17T15:59:48.356698Z",
     "iopub.status.idle": "2025-02-17T15:59:53.262481Z",
     "shell.execute_reply": "2025-02-17T15:59:53.261655Z",
     "shell.execute_reply.started": "2025-02-17T15:59:48.357008Z"
    },
    "trusted": true
   },
   "outputs": [
    {
     "data": {
      "image/png": "[encoded data removed]",
      "text/plain": [
       "<Figure size 1200x600 with 4 Axes>"
      ]
     },
     "metadata": {},
     "output_type": "display_data"
    }
   ],
   "source": [
    "sparse_model.eval()\n",
    "\n",
    "fig, axes = plt.subplots(2, 2, figsize=(12, 6))\n",
    "\n",
    "for i, (image, label) in enumerate(list(testloader)[:4]):\n",
    "\n",
    "    image = image.to(device)\n",
    "    label = label.to(device)\n",
    "\n",
    "    output = sparse_model(image) \n",
    "\n",
    "    _, predicted_label = torch.max(output, 1)\n",
    "\n",
    "    for j in range(min(image.size(0), 4)): \n",
    "        img = image[j] \n",
    "        actual_label = label[j]  \n",
    "\n",
    "        img = img.permute(1, 2, 0).cpu().numpy()\n",
    "\n",
    "        img = img * [0.229, 0.224, 0.225] + [0.485, 0.456, 0.406]\n",
    "        img *= 255\n",
    "        img = img.astype(np.uint8)\n",
    "        img = cv2.cvtColor(img, cv2.COLOR_RGB2BGR)\n",
    "\n",
    "        ax = axes[j // 2, j % 2]\n",
    "        ax.imshow(img)\n",
    "        ax.set_title(f\"Predicted: {predicted_label[j].item()} - Actual: {actual_label.item()}\") \n",
    "        ax.axis(\"off\")\n",
    "\n",
    "plt.tight_layout()\n",
    "\n",
    "plt.show()"
   ]
  },
  {
   "cell_type": "markdown",
   "metadata": {},
   "source": [
    "# Reflection Questions\n",
    "\n",
    "1. What is the trade-off between model sparsity and accuracy?\n",
    "\n",
    "Sparse Models require a lot less memory and are more efficient training wise. However, they suffer from reduced accuracy due to their limited capability. Evaluating the results of my own Sparse implementation, it held up really well in comparison to normal CNN implementation despite being much more constrained. It is much faster too and was able to produce results close to that of the normal CNN (albeit with 20 epochs i.e 10 more than the normal one).\n",
    "   \n",
    "2. How does pruning affect the training time and inference speed?\n",
    "\n",
    "Training time is almost 1/4th of that of the normal CNN. Similarly, inference speed is much faster as well since most of the unimportant weights of neurons were neutralized. \n"
   ]
  }
 ],
 "metadata": {
  "kaggle": {
   "accelerator": "none",
   "dataSources": [],
   "dockerImageVersionId": 30887,
   "isGpuEnabled": false,
   "isInternetEnabled": true,
   "language": "python",
   "sourceType": "notebook"
  },
  "kernelspec": {
   "display_name": "Python 3",
   "language": "python",
   "name": "python3"
  },
  "language_info": {
   "codemirror_mode": {
    "name": "ipython",
    "version": 3
   },
   "file_extension": ".py",
   "mimetype": "text/x-python",
   "name": "python",
   "nbconvert_exporter": "python",
   "pygments_lexer": "ipython3",
   "version": "3.10.12"
  }
 },
 "nbformat": 4,
 "nbformat_minor": 4
}
